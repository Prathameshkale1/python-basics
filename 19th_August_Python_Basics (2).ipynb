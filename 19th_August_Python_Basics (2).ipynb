{
 "cells": [
  {
   "cell_type": "markdown",
   "id": "9fe29b25-aac9-410f-acf5-c383233afdb1",
   "metadata": {},
   "source": [
    "swapping of the values"
   ]
  },
  {
   "cell_type": "code",
   "execution_count": 53,
   "id": "c72c4e00-bdf1-44d4-a9e5-edef58924ead",
   "metadata": {},
   "outputs": [],
   "source": [
    "x= 50\n",
    "y= 10"
   ]
  },
  {
   "cell_type": "code",
   "execution_count": 54,
   "id": "9b7a64fa-29bd-4e5e-ae65-319fab21ef04",
   "metadata": {},
   "outputs": [],
   "source": [
    "x,y = y,x"
   ]
  },
  {
   "cell_type": "code",
   "execution_count": 55,
   "id": "2b98e612-1fdf-49b7-961c-1ff9f6f96fee",
   "metadata": {},
   "outputs": [
    {
     "name": "stdout",
     "output_type": "stream",
     "text": [
      "After swapping:x = 10 y = 50\n"
     ]
    }
   ],
   "source": [
    "print(\"After swapping:x =\",x,\"y =\",y)"
   ]
  },
  {
   "cell_type": "markdown",
   "id": "d4176c85-ffbb-4326-8b60-41c5956e550a",
   "metadata": {},
   "source": [
    "calculating the area of rectangle"
   ]
  },
  {
   "cell_type": "code",
   "execution_count": 32,
   "id": "de084766-aed4-4a65-90bd-bd2e23037245",
   "metadata": {},
   "outputs": [
    {
     "name": "stdin",
     "output_type": "stream",
     "text": [
      "Length of rectangle: 10\n",
      "Width of rectangle: 20\n"
     ]
    },
    {
     "name": "stdout",
     "output_type": "stream",
     "text": [
      "Area of rectangle is: 200\n"
     ]
    }
   ],
   "source": [
    "x = int(input(\"Length of rectangle:\"))\n",
    "y = int(input(\"Width of rectangle:\"))\n",
    "\n",
    "#area of rectangle\n",
    "area= x*y\n",
    "print(\"Area of rectangle is:\",area)"
   ]
  },
  {
   "cell_type": "markdown",
   "id": "cda0db02-00ff-4fab-920a-443ebce03057",
   "metadata": {},
   "source": [
    "converts temperatures from Celsius to\n",
    "Fahrenheit"
   ]
  },
  {
   "cell_type": "code",
   "execution_count": 35,
   "id": "4974b384-f707-47bb-9c0b-e74767feeb10",
   "metadata": {},
   "outputs": [
    {
     "name": "stdin",
     "output_type": "stream",
     "text": [
      "Temperature in degree celcius: 32\n"
     ]
    },
    {
     "name": "stdout",
     "output_type": "stream",
     "text": [
      "32.0 degree celcius is equal to 89.6 degree fahrenheit\n"
     ]
    }
   ],
   "source": [
    "x = float(input(\"Temperature in degree celcius:\"))\n",
    "Fahrenheit=(x*(9/5)) + 32\n",
    "print(f\"{x} degree celcius is equal to {Fahrenheit} degree fahrenheit\")"
   ]
  },
  {
   "cell_type": "markdown",
   "id": "513a72df-7d79-496c-92b4-be291ca6a2e5",
   "metadata": {},
   "source": [
    "calculate length of string"
   ]
  },
  {
   "cell_type": "code",
   "execution_count": 37,
   "id": "f100e055-c2df-4303-81f1-31291c45396f",
   "metadata": {},
   "outputs": [
    {
     "name": "stdin",
     "output_type": "stream",
     "text": [
      "Enter the string: prathamesh\n"
     ]
    },
    {
     "name": "stdout",
     "output_type": "stream",
     "text": [
      "Length of the input string is: 10\n"
     ]
    }
   ],
   "source": [
    "string = str(input(\"Enter the string:\"))\n",
    "length = len(string)\n",
    "print(\"Length of the input string is:\",length)"
   ]
  },
  {
   "cell_type": "markdown",
   "id": "de8cef2d-6e15-481e-8ee4-be5fd113b3f2",
   "metadata": {},
   "source": [
    "Program to count number of vowels"
   ]
  },
  {
   "cell_type": "code",
   "execution_count": 41,
   "id": "0f61d918-24ca-4d82-a51b-8d5fd9276e34",
   "metadata": {},
   "outputs": [
    {
     "name": "stdin",
     "output_type": "stream",
     "text": [
      "Enter a sentence: Prathamesh is an engineer\n"
     ]
    },
    {
     "name": "stdout",
     "output_type": "stream",
     "text": [
      "Number of vowels: 9\n"
     ]
    }
   ],
   "source": [
    "x = str(input(\"Enter a sentence:\"))\n",
    "vowel_count = 0\n",
    "for char in x:\n",
    "    char_lower = char.lower()\n",
    "    if char_lower in\"aeiou\":\n",
    "        vowel_count +=1\n",
    "print(\"Number of vowels:\",vowel_count)"
   ]
  },
  {
   "cell_type": "markdown",
   "id": "15872e0e-8e1c-4ca7-87ce-e5b9902b3bd2",
   "metadata": {},
   "source": [
    "Program to reverse the order of the string"
   ]
  },
  {
   "cell_type": "code",
   "execution_count": 43,
   "id": "d7c28a5c-d86d-4886-9422-75d1ec8f4b31",
   "metadata": {},
   "outputs": [
    {
     "name": "stdin",
     "output_type": "stream",
     "text": [
      "String: prathamesh\n"
     ]
    },
    {
     "name": "stdout",
     "output_type": "stream",
     "text": [
      "Reverse order of the string is: hsemahtarp\n"
     ]
    }
   ],
   "source": [
    "string = input(\"String:\")\n",
    "reversed_string = string[::-1]\n",
    "print(\"Reverse order of the string is:\",reversed_string)"
   ]
  },
  {
   "cell_type": "markdown",
   "id": "85f4bdf8-5cb2-4861-9616-4f0b03a914e9",
   "metadata": {},
   "source": [
    "Program to check whether a string is a palindrome or not"
   ]
  },
  {
   "cell_type": "code",
   "execution_count": 46,
   "id": "920abbec-a9ad-444b-a4c8-02d43bfbb23d",
   "metadata": {},
   "outputs": [
    {
     "name": "stdin",
     "output_type": "stream",
     "text": [
      "Enter a string: Prathamesh\n"
     ]
    },
    {
     "name": "stdout",
     "output_type": "stream",
     "text": [
      "String is not palindrome\n"
     ]
    }
   ],
   "source": [
    "string = input(\"Enter a string:\")\n",
    "lower_string = string.lower()\n",
    "reversed_string = string[::-1]\n",
    "if (string == reversed_string):\n",
    "    print(\"String is a palindrome\")\n",
    "else:\n",
    "    print(\"String is not palindrome\")"
   ]
  },
  {
   "cell_type": "markdown",
   "id": "a794ea12-0f0b-4575-9641-a2088ad99af2",
   "metadata": {},
   "source": [
    "Program to remove all the spaces from the string"
   ]
  },
  {
   "cell_type": "code",
   "execution_count": 48,
   "id": "91ef6121-6f29-4752-b982-c80bb33487ef",
   "metadata": {},
   "outputs": [
    {
     "name": "stdin",
     "output_type": "stream",
     "text": [
      "Enter a string: prathame sh\n"
     ]
    },
    {
     "name": "stdout",
     "output_type": "stream",
     "text": [
      "Modified string without space: prathamesh\n"
     ]
    }
   ],
   "source": [
    "string = input(\"Enter a string:\")\n",
    "modified_string =\"\"\n",
    "for char in string:\n",
    "    if char !=\" \":\n",
    "        modified_string += char\n",
    "print(\"Modified string without space:\",modified_string)            "
   ]
  },
  {
   "cell_type": "code",
   "execution_count": null,
   "id": "d28b12af-7194-41c9-a615-6942aab08d8c",
   "metadata": {},
   "outputs": [],
   "source": []
  }
 ],
 "metadata": {
  "kernelspec": {
   "display_name": "Python 3 (ipykernel)",
   "language": "python",
   "name": "python3"
  },
  "language_info": {
   "codemirror_mode": {
    "name": "ipython",
    "version": 3
   },
   "file_extension": ".py",
   "mimetype": "text/x-python",
   "name": "python",
   "nbconvert_exporter": "python",
   "pygments_lexer": "ipython3",
   "version": "3.10.8"
  }
 },
 "nbformat": 4,
 "nbformat_minor": 5
}
